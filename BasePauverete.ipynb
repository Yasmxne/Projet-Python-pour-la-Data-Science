{
 "cells": [
  {
   "cell_type": "code",
   "execution_count": 7,
   "metadata": {},
   "outputs": [
    {
     "name": "stderr",
     "output_type": "stream",
     "text": [
      "Downloading: 100%|██████████| 21.8M/21.8M [00:07<00:00, 3.00MiB/s]\n",
      "Extracting: 100%|██████████| 22.3M/22.3M [00:00<00:00, 57.6MB/s]\n",
      "/opt/conda/lib/python3.12/site-packages/pynsee/download/download_file.py:38: UserWarning: Download failed\n",
      "  warnings.warn(\"Download failed\")\n"
     ]
    }
   ],
   "source": [
    "from pynsee.download import download_file\n",
    "\n",
    "filosofi = download_file(\"FILOSOFI_DEC_ARR_ENS\")"
   ]
  },
  {
   "cell_type": "code",
   "execution_count": null,
   "metadata": {},
   "outputs": [
    {
     "name": "stdout",
     "output_type": "stream",
     "text": [
      "Téléchargement réussi : fichier sauvegardé sous baseInsee.zip\n",
      "Décompression du fichier...\n",
      "Décompression terminée dans le dossier : ./data/insee\n",
      "Lecture des fichiers dans le répertoire décompressé :\n",
      "- FILO2017_DISP_Pauvres_COM.xlsx\n",
      "- FILO2017_DEC_COM.xlsx\n",
      "- FILO2017_TRDECILES_DEC_COM.xlsx\n",
      "- FILO2017_TRDECILES_DISP_COM.xlsx\n",
      "- FILO2017_DISP_COM.xlsx\n",
      "- FILO2017_DEC_Pauvres_COM.xlsx\n"
     ]
    }
   ],
   "source": [
    "import requests\n",
    "import zipfile\n",
    "import os\n",
    "url = \"https://www.insee.fr/fr/statistiques/fichier/4291712/indic-struct-distrib-revenu-2017-COMMUNES.zip\"\n",
    "dest_zip = \"baseInsee.zip\"\n",
    "response = requests.get(url)\n",
    "if response.status_code == 200:\n",
    "    with open(dest_zip, \"wb\") as f:\n",
    "        f.write(response.content)\n",
    "    print(\"Téléchargement réussi : fichier sauvegardé sous\", dest_zip)\n",
    "else:\n",
    "    print(\"Erreur lors du téléchargement :\", response.status_code)\n",
    "    exit()\n",
    "\n",
    "destination_dir = \"./data/insee\"\n",
    "os.makedirs(destination_dir, exist_ok=True) \n",
    "print(\"Décompression du fichier...\")\n",
    "with zipfile.ZipFile(dest_zip, 'r') as zip_ref:\n",
    "    zip_ref.extractall(destination_dir)\n",
    "print(f\"Décompression terminée dans le dossier : {destination_dir}\")\n",
    "print(\"Lecture des fichiers dans le répertoire décompressé :\")\n",
    "for root, dirs, files in os.walk(destination_dir):\n",
    "    for file in files:\n",
    "        print(f\"- {file}\")"
   ]
  }
 ],
 "metadata": {
  "kernelspec": {
   "display_name": "base",
   "language": "python",
   "name": "python3"
  },
  "language_info": {
   "codemirror_mode": {
    "name": "ipython",
    "version": 3
   },
   "file_extension": ".py",
   "mimetype": "text/x-python",
   "name": "python",
   "nbconvert_exporter": "python",
   "pygments_lexer": "ipython3",
   "version": "3.12.7"
  }
 },
 "nbformat": 4,
 "nbformat_minor": 2
}
