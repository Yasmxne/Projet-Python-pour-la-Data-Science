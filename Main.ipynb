{
 "cells": [
  {
   "cell_type": "markdown",
   "id": "a727ae59-713c-47b0-82f8-786443f35c35",
   "metadata": {},
   "source": [
    "## Import des notebooks"
   ]
  },
  {
   "cell_type": "markdown",
   "id": "e1b41b1e-5459-4e60-95e2-e77b35419614",
   "metadata": {},
   "source": [
    "L'exécution des 4 prochaines cellule dure plusieurs minutes dû à la récupération des données depuis les différentes API et l'ensemble des traitements effectués sur les DataFrame"
   ]
  },
  {
   "cell_type": "code",
   "execution_count": 2,
   "id": "e36a2342-8f84-4351-9dfd-53a6cf55e1ca",
   "metadata": {},
   "outputs": [],
   "source": [
    "%%capture \n",
    "%run BaseDélinquance.ipynb"
   ]
  },
  {
   "cell_type": "code",
   "execution_count": 3,
   "id": "8783787a-8561-4858-834b-4ebbccaee74b",
   "metadata": {},
   "outputs": [],
   "source": [
    "%%capture \n",
    "%run BaseEclairage_v2.ipynb"
   ]
  },
  {
   "cell_type": "code",
   "execution_count": 15,
   "id": "c5edde93-121f-489f-81e7-ffaeade6ebc0",
   "metadata": {},
   "outputs": [],
   "source": [
    "%%capture \n",
    "%run Basevideoprotection.ipynb"
   ]
  },
  {
   "cell_type": "code",
   "execution_count": 6,
   "id": "cb895fa9-9322-4ddf-9ef3-62b5c9cfe0a3",
   "metadata": {},
   "outputs": [],
   "source": [
    "%%capture \n",
    "%run BasePauverete.ipynb"
   ]
  },
  {
   "cell_type": "markdown",
   "id": "a0951661-a863-40ca-82dd-cb55f317c75a",
   "metadata": {},
   "source": [
    "## Réalisation de la jointure pour obtenir la base finale "
   ]
  },
  {
   "cell_type": "markdown",
   "id": "59302d25-c8c3-43be-b1c7-d41df4cd3668",
   "metadata": {},
   "source": [
    "Les deux prochaines cellules unifient la nomenclature et le format de la colonne *INSEE_COG* qui servira de clé pour la jointure :"
   ]
  },
  {
   "cell_type": "code",
   "execution_count": 8,
   "id": "dce28f82-cb21-4d7e-baf5-f927c2064908",
   "metadata": {},
   "outputs": [],
   "source": [
    "%run fonctions.py\n",
    "delinquance_par_arrondissement['arrondissement'] = delinquance_par_arrondissement['arrondissement'].apply(extraire_arrondissement)"
   ]
  },
  {
   "cell_type": "code",
   "execution_count": 9,
   "id": "3037ca64-4252-4b0e-b52d-2f4275a3338b",
   "metadata": {},
   "outputs": [],
   "source": [
    "delinquance_par_arrondissement.rename(columns={\"arrondissement\": \"INSEE_COG\"}, inplace=True)\n"
   ]
  },
  {
   "cell_type": "markdown",
   "id": "a874e02a-97eb-4324-96e5-4ecd4ce78666",
   "metadata": {},
   "source": [
    "Le format de la base sur les logements sociaux implique la présence de duplicatas, nous allons donc les supprimer :"
   ]
  },
  {
   "cell_type": "code",
   "execution_count": 10,
   "id": "30bc63e8-4107-4ca8-8bdc-33dd43fb6a98",
   "metadata": {},
   "outputs": [
    {
     "name": "stdout",
     "output_type": "stream",
     "text": [
      "<class 'pandas.core.frame.DataFrame'>\n",
      "Index: 20 entries, 0 to 394\n",
      "Data columns (total 2 columns):\n",
      " #   Column     Non-Null Count  Dtype \n",
      "---  ------     --------------  ----- \n",
      " 0   INSEE_COG  20 non-null     object\n",
      " 1   nb_log     20 non-null     int64 \n",
      "dtypes: int64(1), object(1)\n",
      "memory usage: 480.0+ bytes\n"
     ]
    }
   ],
   "source": [
    "df_log_flt = df_log[['INSEE_COG', 'nb_log']]\n",
    "df_log_flt = df_log_flt.drop_duplicates()\n",
    "df_log_flt.info()"
   ]
  },
  {
   "cell_type": "markdown",
   "id": "744a20f6-69e7-4bf2-a317-290ac861e3a4",
   "metadata": {},
   "source": [
    "Nous appliquons la jointure sur des copies des bases pour éviter les avertissements de python, puis nous modifions le nom des colonnes pour que les résultats du modèle soient plus clairs :"
   ]
  },
  {
   "cell_type": "code",
   "execution_count": 16,
   "id": "ec220639-8e32-4268-b6a0-7c6d13c5c6d5",
   "metadata": {},
   "outputs": [
    {
     "name": "stdout",
     "output_type": "stream",
     "text": [
      "Types after conversion: object\n",
      "Types after conversion: object\n",
      "Types after conversion: object\n",
      "Types after conversion: object\n",
      "Types after conversion: object\n",
      "Final DF type for INSEE_COG: object\n"
     ]
    },
    {
     "data": {
      "text/html": [
       "<div>\n",
       "<style scoped>\n",
       "    .dataframe tbody tr th:only-of-type {\n",
       "        vertical-align: middle;\n",
       "    }\n",
       "\n",
       "    .dataframe tbody tr th {\n",
       "        vertical-align: top;\n",
       "    }\n",
       "\n",
       "    .dataframe thead th {\n",
       "        text-align: right;\n",
       "    }\n",
       "</style>\n",
       "<table border=\"1\" class=\"dataframe\">\n",
       "  <thead>\n",
       "    <tr style=\"text-align: right;\">\n",
       "      <th></th>\n",
       "      <th>INSEE_COG</th>\n",
       "      <th>densité_lum</th>\n",
       "      <th>nombre</th>\n",
       "      <th>moyenne_annuelle</th>\n",
       "      <th>TP6017</th>\n",
       "      <th>total_commerces</th>\n",
       "      <th>nb_log</th>\n",
       "    </tr>\n",
       "  </thead>\n",
       "  <tbody>\n",
       "    <tr>\n",
       "      <th>0</th>\n",
       "      <td>75105</td>\n",
       "      <td>1345.606894</td>\n",
       "      <td>30</td>\n",
       "      <td>114.030621</td>\n",
       "      <td>10.8</td>\n",
       "      <td>754</td>\n",
       "      <td>81</td>\n",
       "    </tr>\n",
       "    <tr>\n",
       "      <th>1</th>\n",
       "      <td>75110</td>\n",
       "      <td>1217.606244</td>\n",
       "      <td>43</td>\n",
       "      <td>204.109959</td>\n",
       "      <td>17.4</td>\n",
       "      <td>1395</td>\n",
       "      <td>218</td>\n",
       "    </tr>\n",
       "    <tr>\n",
       "      <th>2</th>\n",
       "      <td>75118</td>\n",
       "      <td>1395.251570</td>\n",
       "      <td>57</td>\n",
       "      <td>136.946715</td>\n",
       "      <td>21.2</td>\n",
       "      <td>1713</td>\n",
       "      <td>512</td>\n",
       "    </tr>\n",
       "    <tr>\n",
       "      <th>3</th>\n",
       "      <td>75107</td>\n",
       "      <td>1272.598344</td>\n",
       "      <td>45</td>\n",
       "      <td>122.549336</td>\n",
       "      <td>7.9</td>\n",
       "      <td>899</td>\n",
       "      <td>26</td>\n",
       "    </tr>\n",
       "    <tr>\n",
       "      <th>4</th>\n",
       "      <td>75106</td>\n",
       "      <td>1088.200642</td>\n",
       "      <td>23</td>\n",
       "      <td>146.365548</td>\n",
       "      <td>9.3</td>\n",
       "      <td>1393</td>\n",
       "      <td>48</td>\n",
       "    </tr>\n",
       "  </tbody>\n",
       "</table>\n",
       "</div>"
      ],
      "text/plain": [
       "  INSEE_COG  densité_lum  nombre  moyenne_annuelle  TP6017  total_commerces  \\\n",
       "0     75105  1345.606894      30        114.030621    10.8              754   \n",
       "1     75110  1217.606244      43        204.109959    17.4             1395   \n",
       "2     75118  1395.251570      57        136.946715    21.2             1713   \n",
       "3     75107  1272.598344      45        122.549336     7.9              899   \n",
       "4     75106  1088.200642      23        146.365548     9.3             1393   \n",
       "\n",
       "   nb_log  \n",
       "0      81  \n",
       "1     218  \n",
       "2     512  \n",
       "3      26  \n",
       "4      48  "
      ]
     },
     "execution_count": 16,
     "metadata": {},
     "output_type": "execute_result"
    }
   ],
   "source": [
    "import pandas as pd\n",
    "\n",
    "df_final = df_densite[['INSEE_COG', 'densité_lum']].copy()\n",
    "dataframes = [\n",
    "    df_couverture_videoprotection_par_arrondissement[['INSEE_COG', 'nombre']].copy(),\n",
    "    delinquance_par_arrondissement.copy(),\n",
    "    df_pauv_flt[['INSEE_COG', 'TP6017']].copy(),\n",
    "    df_commerces[['INSEE_COG', 'total_commerces']].copy(),\n",
    "    df_log_flt.copy()\n",
    "]\n",
    "#Unifier le type de INSEE_COG car dans certains df il est de type int64 et dans d'autres de type object\n",
    "for df in dataframes:\n",
    "    df['INSEE_COG'] = df['INSEE_COG'].astype(str)\n",
    "    print(f\"Types after conversion: {df['INSEE_COG'].dtype}\")\n",
    "\n",
    "df_final['INSEE_COG'] = df_final['INSEE_COG'].astype(str)\n",
    "print(f\"Final DF type for INSEE_COG: {df_final['INSEE_COG'].dtype}\")\n",
    "for df in dataframes:\n",
    "    df_final = pd.merge(df_final, df, on='INSEE_COG', how='inner')\n",
    "\n",
    "df_final.head()\n",
    "\n"
   ]
  },
  {
   "cell_type": "code",
   "execution_count": 12,
   "id": "09f23646-3216-4a4c-8a0b-0fd4883020a5",
   "metadata": {},
   "outputs": [
    {
     "name": "stdout",
     "output_type": "stream",
     "text": [
      "<class 'pandas.core.frame.DataFrame'>\n",
      "RangeIndex: 20 entries, 0 to 19\n",
      "Data columns (total 7 columns):\n",
      " #   Column                      Non-Null Count  Dtype  \n",
      "---  ------                      --------------  -----  \n",
      " 0   INSEE_COG                   20 non-null     object \n",
      " 1   densité_lum                 20 non-null     float64\n",
      " 2   nombre_cameras              20 non-null     int64  \n",
      " 3   taux_criminalite_pourmille  20 non-null     float64\n",
      " 4   taux_pauverete              20 non-null     float64\n",
      " 5   total_commerces             20 non-null     int64  \n",
      " 6   log_sociaux                 20 non-null     int64  \n",
      "dtypes: float64(3), int64(3), object(1)\n",
      "memory usage: 1.2+ KB\n"
     ]
    }
   ],
   "source": [
    "##Après avoir tout rééxecuter renommer les colonnes directement dans df_final et appliquer ACP et Regression\n",
    "df_final.rename(columns={\"nombre\": \"nombre_cameras\"}, inplace=True)\n",
    "df_final.rename(columns={\"TP6017\": \"taux_pauverete\"}, inplace=True)\n",
    "df_final.rename(columns={\"nb_log\": \"log_sociaux\"}, inplace=True)\n",
    "df_final.rename(columns={\"moyenne_annuelle\": \"taux_criminalite_pourmille\"}, inplace=True)\n",
    "df_final.info()"
   ]
  },
  {
   "cell_type": "markdown",
   "id": "a7ab6fe2-eccb-4813-a9a7-2a2832b8fb63",
   "metadata": {},
   "source": [
    "## Modèle de Régression"
   ]
  },
  {
   "cell_type": "markdown",
   "id": "fecc36ac-e873-46df-b9dd-034672d25dfa",
   "metadata": {},
   "source": [
    "Nous réalisons la régression du taux de criminalité sur la densité lumineuse, le nombre de caméras de surveillance, le taux de pauvereté, le nombre total des commerces et le nombre de logements sociaux :"
   ]
  },
  {
   "cell_type": "code",
   "execution_count": 13,
   "id": "4cb19a1c-93e3-4a9d-96eb-3edf7589167e",
   "metadata": {},
   "outputs": [
    {
     "data": {
      "text/html": [
       "<table class=\"simpletable\">\n",
       "<caption>OLS Regression Results</caption>\n",
       "<tr>\n",
       "  <th>Dep. Variable:</th>    <td>taux_criminalite_pourmille</td> <th>  R-squared:         </th> <td>   0.815</td>\n",
       "</tr>\n",
       "<tr>\n",
       "  <th>Model:</th>                        <td>OLS</td>            <th>  Adj. R-squared:    </th> <td>   0.749</td>\n",
       "</tr>\n",
       "<tr>\n",
       "  <th>Method:</th>                  <td>Least Squares</td>       <th>  F-statistic:       </th> <td>   12.31</td>\n",
       "</tr>\n",
       "<tr>\n",
       "  <th>Date:</th>                  <td>Sun, 29 Dec 2024</td>      <th>  Prob (F-statistic):</th> <td>0.000102</td>\n",
       "</tr>\n",
       "<tr>\n",
       "  <th>Time:</th>                      <td>17:56:26</td>          <th>  Log-Likelihood:    </th> <td> -109.55</td>\n",
       "</tr>\n",
       "<tr>\n",
       "  <th>No. Observations:</th>           <td>    20</td>           <th>  AIC:               </th> <td>   231.1</td>\n",
       "</tr>\n",
       "<tr>\n",
       "  <th>Df Residuals:</th>               <td>    14</td>           <th>  BIC:               </th> <td>   237.1</td>\n",
       "</tr>\n",
       "<tr>\n",
       "  <th>Df Model:</th>                   <td>     5</td>           <th>                     </th>     <td> </td>   \n",
       "</tr>\n",
       "<tr>\n",
       "  <th>Covariance Type:</th>           <td>nonrobust</td>         <th>                     </th>     <td> </td>   \n",
       "</tr>\n",
       "</table>\n",
       "<table class=\"simpletable\">\n",
       "<tr>\n",
       "         <td></td>            <th>coef</th>     <th>std err</th>      <th>t</th>      <th>P>|t|</th>  <th>[0.025</th>    <th>0.975]</th>  \n",
       "</tr>\n",
       "<tr>\n",
       "  <th>const</th>           <td> -255.7986</td> <td>  118.882</td> <td>   -2.152</td> <td> 0.049</td> <td> -510.775</td> <td>   -0.822</td>\n",
       "</tr>\n",
       "<tr>\n",
       "  <th>densité_lum</th>     <td>    0.1648</td> <td>    0.028</td> <td>    5.961</td> <td> 0.000</td> <td>    0.105</td> <td>    0.224</td>\n",
       "</tr>\n",
       "<tr>\n",
       "  <th>nombre_cameras</th>  <td>    0.7103</td> <td>    2.040</td> <td>    0.348</td> <td> 0.733</td> <td>   -3.664</td> <td>    5.085</td>\n",
       "</tr>\n",
       "<tr>\n",
       "  <th>taux_pauverete</th>  <td>    5.6709</td> <td>    7.126</td> <td>    0.796</td> <td> 0.439</td> <td>   -9.612</td> <td>   20.954</td>\n",
       "</tr>\n",
       "<tr>\n",
       "  <th>total_commerces</th> <td>    0.1325</td> <td>    0.055</td> <td>    2.405</td> <td> 0.031</td> <td>    0.014</td> <td>    0.251</td>\n",
       "</tr>\n",
       "<tr>\n",
       "  <th>log_sociaux</th>     <td>   -0.4820</td> <td>    0.204</td> <td>   -2.368</td> <td> 0.033</td> <td>   -0.919</td> <td>   -0.045</td>\n",
       "</tr>\n",
       "</table>\n",
       "<table class=\"simpletable\">\n",
       "<tr>\n",
       "  <th>Omnibus:</th>       <td> 2.694</td> <th>  Durbin-Watson:     </th> <td>   2.788</td>\n",
       "</tr>\n",
       "<tr>\n",
       "  <th>Prob(Omnibus):</th> <td> 0.260</td> <th>  Jarque-Bera (JB):  </th> <td>   1.127</td>\n",
       "</tr>\n",
       "<tr>\n",
       "  <th>Skew:</th>          <td> 0.498</td> <th>  Prob(JB):          </th> <td>   0.569</td>\n",
       "</tr>\n",
       "<tr>\n",
       "  <th>Kurtosis:</th>      <td> 3.601</td> <th>  Cond. No.          </th> <td>1.59e+04</td>\n",
       "</tr>\n",
       "</table><br/><br/>Notes:<br/>[1] Standard Errors assume that the covariance matrix of the errors is correctly specified.<br/>[2] The condition number is large, 1.59e+04. This might indicate that there are<br/>strong multicollinearity or other numerical problems."
      ],
      "text/latex": [
       "\\begin{center}\n",
       "\\begin{tabular}{lclc}\n",
       "\\toprule\n",
       "\\textbf{Dep. Variable:}    & taux\\_criminalite\\_pourmille & \\textbf{  R-squared:         } &     0.815   \\\\\n",
       "\\textbf{Model:}            &             OLS              & \\textbf{  Adj. R-squared:    } &     0.749   \\\\\n",
       "\\textbf{Method:}           &        Least Squares         & \\textbf{  F-statistic:       } &     12.31   \\\\\n",
       "\\textbf{Date:}             &       Sun, 29 Dec 2024       & \\textbf{  Prob (F-statistic):} &  0.000102   \\\\\n",
       "\\textbf{Time:}             &           17:56:26           & \\textbf{  Log-Likelihood:    } &   -109.55   \\\\\n",
       "\\textbf{No. Observations:} &                20            & \\textbf{  AIC:               } &     231.1   \\\\\n",
       "\\textbf{Df Residuals:}     &                14            & \\textbf{  BIC:               } &     237.1   \\\\\n",
       "\\textbf{Df Model:}         &                 5            & \\textbf{                     } &             \\\\\n",
       "\\textbf{Covariance Type:}  &          nonrobust           & \\textbf{                     } &             \\\\\n",
       "\\bottomrule\n",
       "\\end{tabular}\n",
       "\\begin{tabular}{lcccccc}\n",
       "                          & \\textbf{coef} & \\textbf{std err} & \\textbf{t} & \\textbf{P$> |$t$|$} & \\textbf{[0.025} & \\textbf{0.975]}  \\\\\n",
       "\\midrule\n",
       "\\textbf{const}            &    -255.7986  &      118.882     &    -2.152  &         0.049        &     -510.775    &       -0.822     \\\\\n",
       "\\textbf{densité\\_lum}     &       0.1648  &        0.028     &     5.961  &         0.000        &        0.105    &        0.224     \\\\\n",
       "\\textbf{nombre\\_cameras}  &       0.7103  &        2.040     &     0.348  &         0.733        &       -3.664    &        5.085     \\\\\n",
       "\\textbf{taux\\_pauverete}  &       5.6709  &        7.126     &     0.796  &         0.439        &       -9.612    &       20.954     \\\\\n",
       "\\textbf{total\\_commerces} &       0.1325  &        0.055     &     2.405  &         0.031        &        0.014    &        0.251     \\\\\n",
       "\\textbf{log\\_sociaux}     &      -0.4820  &        0.204     &    -2.368  &         0.033        &       -0.919    &       -0.045     \\\\\n",
       "\\bottomrule\n",
       "\\end{tabular}\n",
       "\\begin{tabular}{lclc}\n",
       "\\textbf{Omnibus:}       &  2.694 & \\textbf{  Durbin-Watson:     } &    2.788  \\\\\n",
       "\\textbf{Prob(Omnibus):} &  0.260 & \\textbf{  Jarque-Bera (JB):  } &    1.127  \\\\\n",
       "\\textbf{Skew:}          &  0.498 & \\textbf{  Prob(JB):          } &    0.569  \\\\\n",
       "\\textbf{Kurtosis:}      &  3.601 & \\textbf{  Cond. No.          } & 1.59e+04  \\\\\n",
       "\\bottomrule\n",
       "\\end{tabular}\n",
       "%\\caption{OLS Regression Results}\n",
       "\\end{center}\n",
       "\n",
       "Notes: \\newline\n",
       " [1] Standard Errors assume that the covariance matrix of the errors is correctly specified. \\newline\n",
       " [2] The condition number is large, 1.59e+04. This might indicate that there are \\newline\n",
       " strong multicollinearity or other numerical problems."
      ],
      "text/plain": [
       "<class 'statsmodels.iolib.summary.Summary'>\n",
       "\"\"\"\n",
       "                                OLS Regression Results                                \n",
       "======================================================================================\n",
       "Dep. Variable:     taux_criminalite_pourmille   R-squared:                       0.815\n",
       "Model:                                    OLS   Adj. R-squared:                  0.749\n",
       "Method:                         Least Squares   F-statistic:                     12.31\n",
       "Date:                        Sun, 29 Dec 2024   Prob (F-statistic):           0.000102\n",
       "Time:                                17:56:26   Log-Likelihood:                -109.55\n",
       "No. Observations:                          20   AIC:                             231.1\n",
       "Df Residuals:                              14   BIC:                             237.1\n",
       "Df Model:                                   5                                         \n",
       "Covariance Type:                    nonrobust                                         \n",
       "===================================================================================\n",
       "                      coef    std err          t      P>|t|      [0.025      0.975]\n",
       "-----------------------------------------------------------------------------------\n",
       "const            -255.7986    118.882     -2.152      0.049    -510.775      -0.822\n",
       "densité_lum         0.1648      0.028      5.961      0.000       0.105       0.224\n",
       "nombre_cameras      0.7103      2.040      0.348      0.733      -3.664       5.085\n",
       "taux_pauverete      5.6709      7.126      0.796      0.439      -9.612      20.954\n",
       "total_commerces     0.1325      0.055      2.405      0.031       0.014       0.251\n",
       "log_sociaux        -0.4820      0.204     -2.368      0.033      -0.919      -0.045\n",
       "==============================================================================\n",
       "Omnibus:                        2.694   Durbin-Watson:                   2.788\n",
       "Prob(Omnibus):                  0.260   Jarque-Bera (JB):                1.127\n",
       "Skew:                           0.498   Prob(JB):                        0.569\n",
       "Kurtosis:                       3.601   Cond. No.                     1.59e+04\n",
       "==============================================================================\n",
       "\n",
       "Notes:\n",
       "[1] Standard Errors assume that the covariance matrix of the errors is correctly specified.\n",
       "[2] The condition number is large, 1.59e+04. This might indicate that there are\n",
       "strong multicollinearity or other numerical problems.\n",
       "\"\"\""
      ]
     },
     "execution_count": 13,
     "metadata": {},
     "output_type": "execute_result"
    }
   ],
   "source": [
    "import statsmodels.api as sm\n",
    "\n",
    "X = df_final[['densité_lum', 'nombre_cameras', 'taux_pauverete', 'total_commerces', 'log_sociaux']]  # Variables explicatives\n",
    "y = df_final['taux_criminalite_pourmille']  # Variable à expliquer\n",
    "\n",
    "X = sm.add_constant(X)\n",
    "model = sm.OLS(y, X).fit()\n",
    "\n",
    "model.summary()\n"
   ]
  },
  {
   "cell_type": "markdown",
   "id": "7af5c403-dda7-4a9c-849b-738579c4e327",
   "metadata": {},
   "source": [
    "## Interprétation"
   ]
  },
  {
   "cell_type": "markdown",
   "id": "03424c69-36c3-4264-a235-c89f4c6af8d6",
   "metadata": {},
   "source": [
    "Cette étude, réalisée sur les arrondissements parisiens, met en lumière des corrélations intéressantes entre le taux de criminalité et divers facteurs socio-économiques et environnementaux. La densité lumineuse et le nombre total de commerces sont positivement corrélés avec le taux de criminalité, ce qui pourrait être expliqué par le fait que les zones les plus touristiques, comme le 1er arrondissement de Paris, attirent à la fois plus de commerces et une densité lumineuse plus élevée, conduisant à un taux de criminalité supérieur. Ces zones, souvent des centres d'activité intense, pourraient donc naturellement expérimenter des niveaux de criminalité plus élevés en raison de leur grande affluence. En revanche, le nombre de caméras de surveillance et le taux de pauvreté ne montrent pas de corrélation significative avec le taux de criminalité, suggérant que ces facteurs peuvent avoir des effets complexes ou indirects qui ne sont pas immédiatement apparents à travers ce modèle. Surprenamment, une augmentation du nombre de logements sociaux est associée à une diminution du taux de criminalité. Comme nous l'avons observé dans le notebook BasePauverete.ipynb sur la carte des logements sociaux, ces derniers sont principalement localisés dans des quartiers non touristiques comme le 18ème arrondissement, ce qui pourrait expliquer leur impact positif sur la sécurité des zones moins centrales. La présence d'un nombre élevé de condition dans l'analyse suggère également la possibilité de multicollinéarité, appelant à une interprétation prudente des résultats individuels des variables."
   ]
  },
  {
   "cell_type": "markdown",
   "id": "6c7cc54b-9e2a-4ebd-959c-e716ea10d719",
   "metadata": {},
   "source": [
    "## Analyse en composantes principales (ACP)"
   ]
  },
  {
   "cell_type": "code",
   "execution_count": 14,
   "id": "e6eb2a39-5dc7-4eee-aa3f-ed82b5764132",
   "metadata": {},
   "outputs": [
    {
     "data": {
      "image/png": "[encoded data removed]",
      "text/plain": [
       "<Figure size 800x500 with 1 Axes>"
      ]
     },
     "metadata": {},
     "output_type": "display_data"
    },
    {
     "name": "stdout",
     "output_type": "stream",
     "text": [
      "Loadings (contribution de chaque variable aux composantes) :\n",
      "                      PC1       PC2       PC3       PC4       PC5\n",
      "densité_lum     -0.309488  0.430101  0.797221  0.264135  0.117908\n",
      "nombre_cameras   0.508107 -0.042618 -0.076658  0.850774  0.101578\n",
      "taux_pauverete   0.512632  0.495649  0.094300 -0.193157 -0.667337\n",
      "total_commerces  0.237312 -0.741335  0.562783 -0.097030 -0.260701\n",
      "log_sociaux      0.571783  0.133981  0.181509 -0.399614  0.680056\n",
      "\n",
      "Composante 1:\n",
      "log_sociaux: 0.5718\n",
      "taux_pauverete: 0.5126\n",
      "nombre_cameras: 0.5081\n",
      "densité_lum: 0.3095\n",
      "total_commerces: 0.2373\n",
      "\n",
      "Composante 2:\n",
      "total_commerces: 0.7413\n",
      "taux_pauverete: 0.4956\n",
      "densité_lum: 0.4301\n",
      "log_sociaux: 0.1340\n",
      "nombre_cameras: 0.0426\n",
      "\n",
      "Composante 3:\n",
      "densité_lum: 0.7972\n",
      "total_commerces: 0.5628\n",
      "log_sociaux: 0.1815\n",
      "taux_pauverete: 0.0943\n",
      "nombre_cameras: 0.0767\n",
      "\n",
      "Composante 4:\n",
      "nombre_cameras: 0.8508\n",
      "log_sociaux: 0.3996\n",
      "densité_lum: 0.2641\n",
      "taux_pauverete: 0.1932\n",
      "total_commerces: 0.0970\n",
      "\n",
      "Composante 5:\n",
      "log_sociaux: 0.6801\n",
      "taux_pauverete: 0.6673\n",
      "total_commerces: 0.2607\n",
      "densité_lum: 0.1179\n",
      "nombre_cameras: 0.1016\n"
     ]
    }
   ],
   "source": [
    "from sklearn.decomposition import PCA\n",
    "from sklearn.preprocessing import StandardScaler\n",
    "import matplotlib.pyplot as plt\n",
    "import numpy as np\n",
    "\n",
    "\n",
    "features = ['densité_lum', 'nombre_cameras', 'taux_pauverete', 'total_commerces', 'log_sociaux']\n",
    "X = df_final[features]\n",
    "scaler = StandardScaler()\n",
    "X_scaled = scaler.fit_transform(X)\n",
    "pca = PCA()\n",
    "X_pca = pca.fit_transform(X_scaled)\n",
    "plt.figure(figsize=(8, 5))\n",
    "plt.bar(range(1, len(pca.explained_variance_ratio_) + 1), pca.explained_variance_ratio_, alpha=0.5, align='center')\n",
    "plt.step(range(1, len(pca.explained_variance_ratio_) + 1), np.cumsum(pca.explained_variance_ratio_), where='mid')\n",
    "plt.ylabel('Pourcentage de variance expliquée')\n",
    "plt.xlabel('Composantes principales')\n",
    "plt.title('Variance expliquée par différentes composantes principales')\n",
    "plt.show()\n",
    "\n",
    "print(\"Loadings (contribution de chaque variable aux composantes) :\")\n",
    "loadings = pd.DataFrame(pca.components_.T, columns=['PC' + str(i) for i in range(1, len(features) + 1)], index=features)\n",
    "print(loadings)\n",
    "for i in range(len(pca.components_)):\n",
    "    print(f\"\\nComposante {i+1}:\")\n",
    "    component = pca.components_[i]\n",
    "    contributions = {features[j]: abs(component[j]) for j in range(len(features))}\n",
    "    sorted_contributions = sorted(contributions.items(), key=lambda x: x[1], reverse=True)\n",
    "    for feature, value in sorted_contributions:\n",
    "        print(f\"{feature}: {value:.4f}\")\n"
   ]
  },
  {
   "cell_type": "markdown",
   "id": "37fe2522-b951-4b26-bc4e-a3cb831950f5",
   "metadata": {},
   "source": [
    "## Interprétation"
   ]
  },
  {
   "cell_type": "markdown",
   "id": "e52db56d-d5a8-47e7-aac3-22889931bf72",
   "metadata": {},
   "source": [
    "L'Analyse en Composantes Principales utilisée dans cette étude nous permet de comprendre comment différentes variables contribuent à la variabilité des données sur le taux de criminalité. La première composante principale, expliquant près de la moitié de la variance totale, révèle que les logements sociaux, le taux de pauvreté, et dans une moindre mesure, le nombre de caméras, sont des facteurs clés. Toutefois, il est important de noter que la régression linéaire effectuée précédemment a montré que, malgré leur forte contribution à la variance des données, ni le taux de pauvreté ni le nombre de caméras ne sont statistiquement significatifs dans la prédiction du taux de criminalité. Cela suggère que bien que ces variables soient des indicateurs importants de la structure des données, leur influence directe sur le taux de criminalité peut être moins directe ou masquée par d'autres facteurs non capturés dans le modèle de régression. "
   ]
  },
  {
   "cell_type": "markdown",
   "id": "d70c5dbc-e4ae-42fd-9a63-28446b149f72",
   "metadata": {},
   "source": [
    "## Conclusion"
   ]
  },
  {
   "cell_type": "markdown",
   "id": "6aaf90f3-faa4-4716-a862-96d4ad397189",
   "metadata": {},
   "source": [
    "Cette étude a permis de rassembler et d'analyser une multitude d'informations concernant divers facteurs socio-économiques influençant le taux de criminalité à travers les arrondissements de Paris. En utilisant des techniques statistiques avancées comme l'Analyse en Composantes Principales (ACP) et la régression linéaire, nous avons pu explorer les relations complexes entre le taux de criminalité et des variables telles que la densité lumineuse, le nombre de caméras de surveillance, le taux de pauvreté, le nombre total de commerces, et la quantité de logements sociaux. Ces analyses ont révélé des insights intéressants sur la manière dont ces facteurs pourraient interagir entre eux.\n",
    "\n",
    "Cependant, il est important de noter que notre étude est basée sur un échantillon relativement restreint de seulement 20 points de données, ce qui représente une limitation significative. Le faible nombre d'observations limite la puissance statistique de notre analyse et réduit la généralisabilité de nos conclusions. En conséquence, bien que nous ayons identifié certaines tendances et relations potentielles, ces résultats doivent être interprétés avec prudence."
   ]
  }
 ],
 "metadata": {
  "kernelspec": {
   "display_name": "Python 3 (ipykernel)",
   "language": "python",
   "name": "python3"
  },
  "language_info": {
   "codemirror_mode": {
    "name": "ipython",
    "version": 3
   },
   "file_extension": ".py",
   "mimetype": "text/x-python",
   "name": "python",
   "nbconvert_exporter": "python",
   "pygments_lexer": "ipython3",
   "version": "3.10.12"
  }
 },
 "nbformat": 4,
 "nbformat_minor": 5
}
