{
 "cells": [
  {
   "cell_type": "code",
   "execution_count": 1,
   "id": "e36a2342-8f84-4351-9dfd-53a6cf55e1ca",
   "metadata": {},
   "outputs": [],
   "source": [
    "%%capture \n",
    "%run BaseDélinquance.ipynb"
   ]
  },
  {
   "cell_type": "code",
   "execution_count": 6,
   "id": "8783787a-8561-4858-834b-4ebbccaee74b",
   "metadata": {},
   "outputs": [],
   "source": [
    "%%capture \n",
    "%run BaseEclairage_v2.ipynb"
   ]
  },
  {
   "cell_type": "code",
   "execution_count": 13,
   "id": "c5edde93-121f-489f-81e7-ffaeade6ebc0",
   "metadata": {},
   "outputs": [],
   "source": [
    "%%capture \n",
    "%run Basevideoprotection.ipynb"
   ]
  },
  {
   "cell_type": "code",
   "execution_count": 21,
   "id": "cb895fa9-9322-4ddf-9ef3-62b5c9cfe0a3",
   "metadata": {},
   "outputs": [],
   "source": [
    "%%capture \n",
    "%run BasePauverete.ipynb"
   ]
  },
  {
   "cell_type": "code",
   "execution_count": 19,
   "id": "dce28f82-cb21-4d7e-baf5-f927c2064908",
   "metadata": {},
   "outputs": [],
   "source": [
    "%run fonctions.py\n",
    "delinquance_par_arrondissement['arrondissement'] = delinquance_par_arrondissement['arrondissement'].apply(extraire_arrondissement)"
   ]
  },
  {
   "cell_type": "code",
   "execution_count": 42,
   "id": "3037ca64-4252-4b0e-b52d-2f4275a3338b",
   "metadata": {},
   "outputs": [],
   "source": [
    "delinquance_par_arrondissement.rename(columns={\"arrondissement\": \"INSEE_COG\"}, inplace=True)\n"
   ]
  },
  {
   "cell_type": "code",
   "execution_count": 36,
   "id": "30bc63e8-4107-4ca8-8bdc-33dd43fb6a98",
   "metadata": {},
   "outputs": [
    {
     "name": "stdout",
     "output_type": "stream",
     "text": [
      "<class 'pandas.core.frame.DataFrame'>\n",
      "Index: 20 entries, 0 to 196\n",
      "Data columns (total 2 columns):\n",
      " #   Column     Non-Null Count  Dtype \n",
      "---  ------     --------------  ----- \n",
      " 0   INSEE_COG  20 non-null     object\n",
      " 1   nb_log     20 non-null     int64 \n",
      "dtypes: int64(1), object(1)\n",
      "memory usage: 480.0+ bytes\n"
     ]
    }
   ],
   "source": [
    "df_log_flt = df_log[['INSEE_COG', 'nb_log']]\n",
    "df_log_flt = df_log_flt.drop_duplicates()\n",
    "df_log_flt.info()"
   ]
  },
  {
   "cell_type": "code",
   "execution_count": 32,
   "id": "b17da781-3a0a-4821-806c-1dfad8fc07fa",
   "metadata": {},
   "outputs": [
    {
     "name": "stdout",
     "output_type": "stream",
     "text": [
      "<class 'pandas.core.frame.DataFrame'>\n",
      "RangeIndex: 20 entries, 0 to 19\n",
      "Data columns (total 2 columns):\n",
      " #   Column         Non-Null Count  Dtype  \n",
      "---  ------         --------------  -----  \n",
      " 0   INSEE_COG      20 non-null     object \n",
      " 1   tauxpourmille  20 non-null     float64\n",
      "dtypes: float64(1), object(1)\n",
      "memory usage: 448.0+ bytes\n"
     ]
    }
   ],
   "source": [
    "delinquance_par_arrondissement.info()"
   ]
  },
  {
   "cell_type": "code",
   "execution_count": 43,
   "id": "f1b1938e-35dd-42c9-8153-4efff2ec376c",
   "metadata": {},
   "outputs": [
    {
     "name": "stdout",
     "output_type": "stream",
     "text": [
      "<class 'pandas.core.frame.DataFrame'>\n",
      "RangeIndex: 20 entries, 0 to 19\n",
      "Data columns (total 3 columns):\n",
      " #   Column          Non-Null Count  Dtype   \n",
      "---  ------          --------------  -----   \n",
      " 0   INSEE_COG       20 non-null     object  \n",
      " 1   nombre_cameras  20 non-null     int64   \n",
      " 2   geometry        20 non-null     geometry\n",
      "dtypes: geometry(1), int64(1), object(1)\n",
      "memory usage: 608.0+ bytes\n"
     ]
    }
   ],
   "source": [
    "df_couverture_videoprotection_par_arrondissement.info()"
   ]
  },
  {
   "cell_type": "code",
   "execution_count": 25,
   "id": "29f91be3-8b44-4d15-bc30-7b905fbf3591",
   "metadata": {},
   "outputs": [
    {
     "name": "stdout",
     "output_type": "stream",
     "text": [
      "<class 'pandas.core.frame.DataFrame'>\n",
      "Index: 20 entries, 3321 to 3340\n",
      "Data columns (total 7 columns):\n",
      " #   Column     Non-Null Count  Dtype  \n",
      "---  ------     --------------  -----  \n",
      " 0   INSEE_COG  20 non-null     object \n",
      " 1   LIBGEO     20 non-null     object \n",
      " 2   TP4017     20 non-null     float64\n",
      " 3   TP5017     20 non-null     float64\n",
      " 4   TP6017     20 non-null     float64\n",
      " 5   TP60Q217   20 non-null     int64  \n",
      " 6   TP60IP17   20 non-null     float64\n",
      "dtypes: float64(4), int64(1), object(2)\n",
      "memory usage: 1.2+ KB\n"
     ]
    }
   ],
   "source": [
    "df_pauv_flt.info()"
   ]
  },
  {
   "cell_type": "code",
   "execution_count": 26,
   "id": "ee2e3109-2963-4f29-a30d-8347cf0f663c",
   "metadata": {},
   "outputs": [
    {
     "name": "stdout",
     "output_type": "stream",
     "text": [
      "<class 'pandas.core.frame.DataFrame'>\n",
      "Index: 20 entries, 58 to 1273\n",
      "Data columns (total 34 columns):\n",
      " #   Column                                          Non-Null Count  Dtype \n",
      "---  ------                                          --------------  ----- \n",
      " 0   departement                                     20 non-null     int64 \n",
      " 1   INSEE_COG                                       20 non-null     int64 \n",
      " 2   libelle_de_commune                              20 non-null     object\n",
      " 3   arrondissement                                  20 non-null     int64 \n",
      " 4   canton_ville                                    20 non-null     int64 \n",
      " 5   zone_d_emploi                                   20 non-null     int64 \n",
      " 6   unite_urbaine                                   20 non-null     int64 \n",
      " 7   population_2010                                 20 non-null     int64 \n",
      " 8   hypermarche                                     20 non-null     int64 \n",
      " 9   supermarche                                     20 non-null     int64 \n",
      " 10  grande_surface_de_bricolage                     20 non-null     int64 \n",
      " 11  superette                                       20 non-null     int64 \n",
      " 12  epicerie                                        20 non-null     int64 \n",
      " 13  boulangerie                                     20 non-null     int64 \n",
      " 14  boucherie_charcuterie                           20 non-null     int64 \n",
      " 15  produits_surgeles                               20 non-null     int64 \n",
      " 16  poissonnerie                                    20 non-null     int64 \n",
      " 17  librairie_papeterie_journaux                    20 non-null     int64 \n",
      " 18  magasin_de_vetements                            20 non-null     int64 \n",
      " 19  magasin_d_equipements_du_foyer                  20 non-null     int64 \n",
      " 20  magasin_de_chaussures                           20 non-null     int64 \n",
      " 21  magasin_d_electromenager_et_de_mat_audio_video  20 non-null     int64 \n",
      " 22  magasin_de_meubles                              20 non-null     int64 \n",
      " 23  magasin_d_articles_de_sports_et_de_loisirs      20 non-null     int64 \n",
      " 24  magasin_de_revetements_murs_et_sols             20 non-null     int64 \n",
      " 25  droguerie_quincaillerie_bricolage               20 non-null     int64 \n",
      " 26  parfumerie                                      20 non-null     int64 \n",
      " 27  horlogerie_bijouterie                           20 non-null     int64 \n",
      " 28  fleuriste                                       20 non-null     int64 \n",
      " 29  magasin_d_optique                               20 non-null     int64 \n",
      " 30  station_service                                 20 non-null     int64 \n",
      " 31  geo_point_2d                                    20 non-null     object\n",
      " 32  geo_shape                                       20 non-null     object\n",
      " 33  total_commerces                                 20 non-null     int64 \n",
      "dtypes: int64(31), object(3)\n",
      "memory usage: 5.5+ KB\n"
     ]
    }
   ],
   "source": [
    "df_commerces.info()"
   ]
  },
  {
   "cell_type": "code",
   "execution_count": 27,
   "id": "62fb8497-c22e-4e37-ad63-a5adb15ececf",
   "metadata": {},
   "outputs": [
    {
     "name": "stdout",
     "output_type": "stream",
     "text": [
      "<class 'pandas.core.frame.DataFrame'>\n",
      "RangeIndex: 20 entries, 0 to 19\n",
      "Data columns (total 8 columns):\n",
      " #   Column                  Non-Null Count  Dtype  \n",
      "---  ------                  --------------  -----  \n",
      " 0   c_ar                    20 non-null     int64  \n",
      " 1   INSEE_COG               20 non-null     int64  \n",
      " 2   l_ar                    20 non-null     object \n",
      " 3   surface                 20 non-null     float64\n",
      " 4   geom                    20 non-null     object \n",
      " 5   Nombre_points_lumineux  20 non-null     int64  \n",
      " 6   densité_lum             20 non-null     float64\n",
      " 7   geometry                20 non-null     object \n",
      "dtypes: float64(2), int64(3), object(3)\n",
      "memory usage: 1.4+ KB\n"
     ]
    }
   ],
   "source": [
    "df_densite.info()"
   ]
  },
  {
   "cell_type": "code",
   "execution_count": 39,
   "id": "ec220639-8e32-4268-b6a0-7c6d13c5c6d5",
   "metadata": {},
   "outputs": [
    {
     "name": "stdout",
     "output_type": "stream",
     "text": [
      "Types after conversion: object\n",
      "Types after conversion: object\n",
      "Types after conversion: object\n",
      "Types after conversion: object\n",
      "Types after conversion: object\n",
      "Final DF type for INSEE_COG: object\n"
     ]
    },
    {
     "data": {
      "text/html": [
       "<div>\n",
       "<style scoped>\n",
       "    .dataframe tbody tr th:only-of-type {\n",
       "        vertical-align: middle;\n",
       "    }\n",
       "\n",
       "    .dataframe tbody tr th {\n",
       "        vertical-align: top;\n",
       "    }\n",
       "\n",
       "    .dataframe thead th {\n",
       "        text-align: right;\n",
       "    }\n",
       "</style>\n",
       "<table border=\"1\" class=\"dataframe\">\n",
       "  <thead>\n",
       "    <tr style=\"text-align: right;\">\n",
       "      <th></th>\n",
       "      <th>INSEE_COG</th>\n",
       "      <th>densité_lum</th>\n",
       "      <th>nombre</th>\n",
       "      <th>tauxpourmille</th>\n",
       "      <th>TP6017</th>\n",
       "      <th>total_commerces</th>\n",
       "      <th>nb_log</th>\n",
       "    </tr>\n",
       "  </thead>\n",
       "  <tbody>\n",
       "    <tr>\n",
       "      <th>0</th>\n",
       "      <td>75105</td>\n",
       "      <td>1345.606894</td>\n",
       "      <td>30</td>\n",
       "      <td>912.244964</td>\n",
       "      <td>10.8</td>\n",
       "      <td>754</td>\n",
       "      <td>81</td>\n",
       "    </tr>\n",
       "    <tr>\n",
       "      <th>1</th>\n",
       "      <td>75110</td>\n",
       "      <td>1217.606244</td>\n",
       "      <td>43</td>\n",
       "      <td>1632.879669</td>\n",
       "      <td>17.4</td>\n",
       "      <td>1395</td>\n",
       "      <td>218</td>\n",
       "    </tr>\n",
       "    <tr>\n",
       "      <th>2</th>\n",
       "      <td>75118</td>\n",
       "      <td>1395.251570</td>\n",
       "      <td>57</td>\n",
       "      <td>1095.573722</td>\n",
       "      <td>21.2</td>\n",
       "      <td>1713</td>\n",
       "      <td>512</td>\n",
       "    </tr>\n",
       "    <tr>\n",
       "      <th>3</th>\n",
       "      <td>75107</td>\n",
       "      <td>1272.598344</td>\n",
       "      <td>45</td>\n",
       "      <td>980.394686</td>\n",
       "      <td>7.9</td>\n",
       "      <td>899</td>\n",
       "      <td>26</td>\n",
       "    </tr>\n",
       "    <tr>\n",
       "      <th>4</th>\n",
       "      <td>75106</td>\n",
       "      <td>1088.200642</td>\n",
       "      <td>23</td>\n",
       "      <td>1170.924386</td>\n",
       "      <td>9.3</td>\n",
       "      <td>1393</td>\n",
       "      <td>48</td>\n",
       "    </tr>\n",
       "  </tbody>\n",
       "</table>\n",
       "</div>"
      ],
      "text/plain": [
       "  INSEE_COG  densité_lum  nombre  tauxpourmille  TP6017  total_commerces  \\\n",
       "0     75105  1345.606894      30     912.244964    10.8              754   \n",
       "1     75110  1217.606244      43    1632.879669    17.4             1395   \n",
       "2     75118  1395.251570      57    1095.573722    21.2             1713   \n",
       "3     75107  1272.598344      45     980.394686     7.9              899   \n",
       "4     75106  1088.200642      23    1170.924386     9.3             1393   \n",
       "\n",
       "   nb_log  \n",
       "0      81  \n",
       "1     218  \n",
       "2     512  \n",
       "3      26  \n",
       "4      48  "
      ]
     },
     "execution_count": 39,
     "metadata": {},
     "output_type": "execute_result"
    }
   ],
   "source": [
    "import pandas as pd\n",
    "\n",
    "df_final = df_densite[['INSEE_COG', 'densité_lum']].copy()\n",
    "dataframes = [\n",
    "    df_couverture_videoprotection_par_arrondissement[['INSEE_COG', 'nombre']].copy(),\n",
    "    delinquance_par_arrondissement.copy(),\n",
    "    df_pauv_flt[['INSEE_COG', 'TP6017']].copy(),\n",
    "    df_commerces[['INSEE_COG', 'total_commerces']].copy(),\n",
    "    df_log_flt.copy()\n",
    "]\n",
    "#Unifier le type de INSEE_COG car dans certains df il est de type int64 et dans d'autres de type object\n",
    "for df in dataframes:\n",
    "    df['INSEE_COG'] = df['INSEE_COG'].astype(str)\n",
    "    print(f\"Types after conversion: {df['INSEE_COG'].dtype}\")\n",
    "\n",
    "df_final['INSEE_COG'] = df_final['INSEE_COG'].astype(str)\n",
    "print(f\"Final DF type for INSEE_COG: {df_final['INSEE_COG'].dtype}\")\n",
    "for df in dataframes:\n",
    "    df_final = pd.merge(df_final, df, on='INSEE_COG', how='inner')\n",
    "\n",
    "df_final.head()\n",
    "\n"
   ]
  },
  {
   "cell_type": "code",
   "execution_count": null,
   "id": "09f23646-3216-4a4c-8a0b-0fd4883020a5",
   "metadata": {},
   "outputs": [],
   "source": [
    "##Après avoir tout rééxecuter renommer les colonnes directement dans df_final et appliquer ACP et Regression"
   ]
  }
 ],
 "metadata": {
  "kernelspec": {
   "display_name": "Python 3 (ipykernel)",
   "language": "python",
   "name": "python3"
  },
  "language_info": {
   "codemirror_mode": {
    "name": "ipython",
    "version": 3
   },
   "file_extension": ".py",
   "mimetype": "text/x-python",
   "name": "python",
   "nbconvert_exporter": "python",
   "pygments_lexer": "ipython3",
   "version": "3.10.12"
  }
 },
 "nbformat": 4,
 "nbformat_minor": 5
}
